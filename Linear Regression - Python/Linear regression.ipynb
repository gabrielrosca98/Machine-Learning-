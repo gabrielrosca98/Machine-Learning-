{
 "cells": [
  {
   "cell_type": "markdown",
   "metadata": {},
   "source": [
    "# Linear Regression "
   ]
  },
  {
   "cell_type": "markdown",
   "metadata": {},
   "source": [
    "Implemented a linear regression using the least squares method. First, we will see the results of predicting a value equal to the average expected value. Then, we will fit a linear model to our data sets and compare the results between our first method and the latter one."
   ]
  },
  {
   "cell_type": "code",
   "execution_count": 1,
   "metadata": {},
   "outputs": [],
   "source": [
    "import _pickle as cp\n",
    "import numpy as np\n",
    "import matplotlib.pyplot as plt\n",
    "\n",
    "#Load the input data in X and the expected output in y\n",
    "X, y = cp.load(open('winequality-white.pickle', 'rb'))\n",
    "\n",
    "#Store the shape of the input data - N=number samples, D=number features\n",
    "N, D = X.shape"
   ]
  },
  {
   "cell_type": "markdown",
   "metadata": {},
   "source": [
    "##### Split the data into training data and test data. We will use 80% of our samples to train our model while the rest will be used to test the accuracy of our model."
   ]
  },
  {
   "cell_type": "code",
   "execution_count": 2,
   "metadata": {},
   "outputs": [],
   "source": [
    "N_train = int(0.8 * N)\n",
    "N_test = N - N_train\n",
    "\n",
    "print (\"We will use \" + str(N_train) + \" samples to train the model and \" + str(N_test) + \" to test the model.\")\n",
    "\n",
    "X_train = X[:N_train]\n",
    "X_test = X[N_train:]\n",
    "\n",
    "Y_train = y[:N_train]\n",
    "Y_test = y[N_train:]"
   ]
  },
  {
   "cell_type": "markdown",
   "metadata": {},
   "source": [
    "##### Make a bar chart showing the distribution of y values in the training set"
   ]
  },
  {
   "cell_type": "code",
   "execution_count": 3,
   "metadata": {},
   "outputs": [
    {
     "data": {
      "image/png": "[encoded data removed]",
      "text/plain": [
       "<Figure size 432x288 with 1 Axes>"
      ]
     },
     "metadata": {
      "needs_background": "light"
     },
     "output_type": "display_data"
    }
   ],
   "source": [
    "plt.bar(np.arange(N_train), Y_train, color = \"blue\")\n",
    "plt.ylabel('Score')\n",
    "plt.xlabel('Wine number')\n",
    "plt.title('Distribution of qualities for the training data set')\n",
    "plt.show()"
   ]
  },
  {
   "cell_type": "markdown",
   "metadata": {},
   "source": [
    "##### Calculate the average y from our training data"
   ]
  },
  {
   "cell_type": "code",
   "execution_count": 4,
   "metadata": {},
   "outputs": [
    {
     "name": "stdout",
     "output_type": "stream",
     "text": [
      "We have an prediction score of 5.879 for our model obtained by averaging all the y values in the train data.\n"
     ]
    }
   ],
   "source": [
    "average_yTrain = np.average(Y_train)\n",
    "print (\"We have an prediction score of \" + str(average_yTrain.round(3)) + \" for our model obtained by averaging all the y values in the train data.\")\n"
   ]
  },
  {
   "cell_type": "markdown",
   "metadata": {},
   "source": [
    "##### Calculate the mean squared error"
   ]
  },
  {
   "cell_type": "code",
   "execution_count": 5,
   "metadata": {},
   "outputs": [
    {
     "name": "stdout",
     "output_type": "stream",
     "text": [
      "We have a mean squared error of 0.163\n"
     ]
    }
   ],
   "source": [
    "#Set the mean squared error to 0\n",
    "meanSquaredError = 0.0\n",
    "\n",
    "#For each sample in the test data set calculate the mean squared error\n",
    "for indexSample in range(0,N_test - 1):\n",
    "    meanSquaredError = meanSquaredError + (average_yTrain - Y_test[indexSample])**2\n",
    "meanSquaredError = meanSquaredError / N\n",
    "print(\"We have a mean squared error of \" + str(meanSquaredError.round(3)))"
   ]
  },
  {
   "cell_type": "markdown",
   "metadata": {},
   "source": [
    "##### Standardize the data\n",
    "Standardize both the test and train data set in order to be able to compare features that have different units/scale.\n",
    "Standardizing our data will make each feature have the mean 0 and variance 1."
   ]
  },
  {
   "cell_type": "code",
   "execution_count": 6,
   "metadata": {},
   "outputs": [],
   "source": [
    "#Calculate the mean value and standard deviation for each feature\n",
    "meanValue = np.mean(X, axis = 1)\n",
    "stdValue = np.std(X, axis = 1)\n",
    "\n",
    "#Standardize the train data\n",
    "for indexSample in range(0, N_train):\n",
    "    for indexFeature in range(0, D):\n",
    "        X_train[indexSample][indexFeature] = (X_train[indexSample][indexFeature] - meanValue[indexFeature]) / stdValue[indexFeature]\n",
    "\n",
    "#Standardize the test data\n",
    "for indexSample in range(0, N_test):\n",
    "    for indexFeature in range(0, D):\n",
    "        X_test[indexSample][indexFeature] = (X_test[indexSample][indexFeature] - meanValue[indexFeature]) / stdValue[indexFeature]\n"
   ]
  },
  {
   "cell_type": "markdown",
   "metadata": {},
   "source": [
    "##### Fit linear regression model\n",
    "First create our Xtilda matrix for the features to include the 1 column(used for the bias). Calculate the weights vector by multiplicating the Moore-Penrose Pseudoinverse of the Xtilda matrix with the Y vector. Calculate the mean squared error for both the train and test data sets."
   ]
  },
  {
   "cell_type": "code",
   "execution_count": 7,
   "metadata": {},
   "outputs": [
    {
     "name": "stdout",
     "output_type": "stream",
     "text": [
      "We have an mean squared error for training data of 0.56399961739419.\n",
      "We have an mean squared error for testing data of 0.5607292042283503.\n"
     ]
    }
   ],
   "source": [
    "#Create the Xtilda matrix\n",
    "Xtilda_train = np.insert(X_train, 0, np.ones(N_train), axis = 1)\n",
    "Xtilda_test = np.insert(X_test, 0, np.ones(N_test), axis = 1)\n",
    "\n",
    "#Calculate the weight vector ((D+1) x 1 - where D is the number of features)\n",
    "w = np.dot(np.linalg.pinv(Xtilda_train), np.transpose(Y_train))\n",
    "w = np.transpose(w)\n",
    "\n",
    "errorsNumber = 0\n",
    "meanSquaredError = 0\n",
    "\n",
    "#For each sample in our training set calculate the mean squared error\n",
    "for indexSample in range(0, N_train):\n",
    "    predictedValue = np.dot(Xtilda_train[indexSample,:], w)\n",
    "    meanSquaredError = meanSquaredError + (predictedValue - Y_train[indexSample])**2\n",
    "meanSquaredError = meanSquaredError / N_train\n",
    "\n",
    "print(\"We have an mean squared error for training data of \" + str(meanSquaredError) + \".\")\n",
    "\n",
    "#Reset the variable\n",
    "meanSquaredError = 0\n",
    "\n",
    "#For each sample in our training set calculate the mean squared error\n",
    "for indexSample in range(0, N_test):\n",
    "    predictedValue = np.dot(Xtilda_test[indexSample,:], w)\n",
    "    meanSquaredError = meanSquaredError + (predictedValue - Y_test[indexSample])**2\n",
    "meanSquaredError = meanSquaredError / N_test\n",
    "\n",
    "print(\"We have an mean squared error for testing data of \" + str(meanSquaredError) + \".\")"
   ]
  },
  {
   "cell_type": "markdown",
   "metadata": {},
   "source": [
    "##### Learning curves\n",
    "Test the error for different data sets starting from 20 samples used for training up to 600 samples used. Plot the learning curve for each case."
   ]
  },
  {
   "cell_type": "code",
   "execution_count": 14,
   "metadata": {},
   "outputs": [
    {
     "data": {
      "image/png": "[encoded data removed]",
      "text/plain": [
       "<Figure size 432x288 with 1 Axes>"
      ]
     },
     "metadata": {
      "needs_background": "light"
     },
     "output_type": "display_data"
    }
   ],
   "source": [
    "#Dictionaries used to store the mean squared error for each case(20->600 samples)\n",
    "valuesErrorsTest = {}\n",
    "valuesErrorsTrain = {}\n",
    "\n",
    "#For each case \n",
    "for indexDataSet in range(20, 620, 20):\n",
    "    #Calculate the train/test data sets\n",
    "    X_train = X[:indexDataSet]\n",
    "    Xtilda_train = np.insert(X_train, 0, np.ones(indexDataSet), axis = 1)\n",
    "    X_test = X[indexDataSet:]\n",
    "    Xtilda_test = np.insert(X_test, 0, np.ones(N - indexDataSet), axis = 1)\n",
    "    \n",
    "    Y_train = y[:indexDataSet]\n",
    "    Y_test = y[indexDataSet:]\n",
    "    \n",
    "    #Calculate the weights vector\n",
    "    w = np.dot(np.linalg.pinv(Xtilda_train), np.transpose(Y_train))\n",
    "    w = np.transpose(w)\n",
    "    \n",
    "    #Set the variables to 0\n",
    "    errorsNumber = 0\n",
    "    meanSquaredError = 0\n",
    "    \n",
    "    #For each sample in our training set calculate the mean squared error\n",
    "    for indexSample in range(0, indexDataSet):\n",
    "        predictedValue = np.dot(Xtilda_train[indexSample,:], w)\n",
    "        meanSquaredError = meanSquaredError + (predictedValue - Y_train[indexSample])**2\n",
    "    meanSquaredError = meanSquaredError / N_train\n",
    "    \n",
    "    #Store the error into the dictionary\n",
    "    valuesErrorsTrain[indexDataSet] = meanSquaredError\n",
    "    \n",
    "    meanSquaredError = 0\n",
    "    \n",
    "    #For each sample in our test set calculate the mean squared error\n",
    "    for indexSample in range(0, N_test):\n",
    "        predictedValue = np.dot(Xtilda_test[indexSample,:], w)\n",
    "        meanSquaredError = meanSquaredError + (predictedValue - Y_test[indexSample])**2\n",
    "    meanSquaredError = meanSquaredError / N_test\n",
    "    \n",
    "    #Store the error into the dictionary\n",
    "    valuesErrorsTest[indexDataSet] = meanSquaredError\n",
    "    \n",
    "t = np.arange(20, 620, 20)\n",
    "plt.plot(t, list(valuesErrorsTrain.values()), 'g', label='Train')\n",
    "plt.plot(t, list(valuesErrorsTest.values()), 'r', label='Test')\n",
    "plt.xlabel('Number of samples used for training')\n",
    "plt.ylabel('Mean squared error')\n",
    "plt.title('Learning curves')\n",
    "plt.legend(loc='upper right')\n",
    "plt.show()"
   ]
  },
  {
   "cell_type": "code",
   "execution_count": null,
   "metadata": {},
   "outputs": [],
   "source": []
  }
 ],
 "metadata": {
  "kernelspec": {
   "display_name": "Python 3",
   "language": "python",
   "name": "python3"
  },
  "language_info": {
   "codemirror_mode": {
    "name": "ipython",
    "version": 3
   },
   "file_extension": ".py",
   "mimetype": "text/x-python",
   "name": "python",
   "nbconvert_exporter": "python",
   "pygments_lexer": "ipython3",
   "version": "3.7.3"
  }
 },
 "nbformat": 4,
 "nbformat_minor": 2
}
